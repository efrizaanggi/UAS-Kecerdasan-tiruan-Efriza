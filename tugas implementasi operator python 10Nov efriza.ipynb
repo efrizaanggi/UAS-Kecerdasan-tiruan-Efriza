{
  "nbformat": 4,
  "nbformat_minor": 0,
  "metadata": {
    "colab": {
      "provenance": [],
      "authorship_tag": "ABX9TyNI2aoLvB68R3IEFyr7wDQB",
      "include_colab_link": true
    },
    "kernelspec": {
      "name": "python3",
      "display_name": "Python 3"
    },
    "language_info": {
      "name": "python"
    }
  },
  "cells": [
    {
      "cell_type": "markdown",
      "metadata": {
        "id": "view-in-github",
        "colab_type": "text"
      },
      "source": [
        "<a href=\"https://colab.research.google.com/github/efrizaanngi/Anggi/blob/main/tugas%20implementasi%20operator%20python%2010Nov%20efriza.ipynb\" target=\"_parent\"><img src=\"https://colab.research.google.com/assets/colab-badge.svg\" alt=\"Open In Colab\"/></a>"
      ]
    },
    {
      "cell_type": "code",
      "source": [
        "#Operator Aritmatika\n",
        "a, b = 10, 3"
      ],
      "metadata": {
        "id": "5vskBh8ixWhb"
      },
      "execution_count": 2,
      "outputs": []
    },
    {
      "cell_type": "code",
      "source": [
        "print(a, '+', b, '=', a + b)"
      ],
      "metadata": {
        "colab": {
          "base_uri": "https://localhost:8080/"
        },
        "id": "3BoSlz5lx0Kr",
        "outputId": "5daea293-8dcd-410a-d067-0942b524788c"
      },
      "execution_count": 3,
      "outputs": [
        {
          "output_type": "stream",
          "name": "stdout",
          "text": [
            "10 + 3 = 13\n"
          ]
        }
      ]
    },
    {
      "cell_type": "code",
      "source": [
        "print(a, '_', b, '=', a - b)"
      ],
      "metadata": {
        "colab": {
          "base_uri": "https://localhost:8080/"
        },
        "id": "urqUlWi6ygkI",
        "outputId": "2347617c-5d6c-425e-8c7b-4777b4eb10ef"
      },
      "execution_count": 4,
      "outputs": [
        {
          "output_type": "stream",
          "name": "stdout",
          "text": [
            "10 _ 3 = 7\n"
          ]
        }
      ]
    },
    {
      "cell_type": "code",
      "source": [
        "print(a, '*', b, '=', a * b)"
      ],
      "metadata": {
        "colab": {
          "base_uri": "https://localhost:8080/"
        },
        "id": "w6-Wb5YWy2pk",
        "outputId": "50d95408-cc7f-49d4-d1a1-f3915c4860b5"
      },
      "execution_count": 5,
      "outputs": [
        {
          "output_type": "stream",
          "name": "stdout",
          "text": [
            "10 * 3 = 30\n"
          ]
        }
      ]
    },
    {
      "cell_type": "code",
      "source": [
        "print(a, '/', b, '=', a / b)"
      ],
      "metadata": {
        "colab": {
          "base_uri": "https://localhost:8080/"
        },
        "id": "g4eJgt8mzJyU",
        "outputId": "f2a967a5-41ef-488e-aa17-698ee88f421c"
      },
      "execution_count": 6,
      "outputs": [
        {
          "output_type": "stream",
          "name": "stdout",
          "text": [
            "10 / 3 = 3.3333333333333335\n"
          ]
        }
      ]
    },
    {
      "cell_type": "code",
      "source": [
        "print(a, '%', b, '=', b, '=', a % b)"
      ],
      "metadata": {
        "colab": {
          "base_uri": "https://localhost:8080/"
        },
        "id": "wiq64qSxzXtM",
        "outputId": "b3e67b59-1447-4cba-d3bb-20b299acaeff"
      },
      "execution_count": 7,
      "outputs": [
        {
          "output_type": "stream",
          "name": "stdout",
          "text": [
            "10 % 3 = 3 = 1\n"
          ]
        }
      ]
    },
    {
      "cell_type": "code",
      "source": [
        "print(a, '**', b, '=', a  ** b)"
      ],
      "metadata": {
        "colab": {
          "base_uri": "https://localhost:8080/"
        },
        "id": "D4_DUFPKz0nt",
        "outputId": "38fbb7c5-e956-4c0c-b660-80017c9b6f0b"
      },
      "execution_count": 8,
      "outputs": [
        {
          "output_type": "stream",
          "name": "stdout",
          "text": [
            "10 ** 3 = 1000\n"
          ]
        }
      ]
    },
    {
      "cell_type": "code",
      "source": [
        "print(a, '//', b, '=', b, '=', a //b)"
      ],
      "metadata": {
        "colab": {
          "base_uri": "https://localhost:8080/"
        },
        "id": "L2vl2CnL0Mtq",
        "outputId": "6246e928-2e48-4873-86d6-2ff20286fe10"
      },
      "execution_count": 9,
      "outputs": [
        {
          "output_type": "stream",
          "name": "stdout",
          "text": [
            "10 // 3 = 3 = 3\n"
          ]
        }
      ]
    },
    {
      "cell_type": "code",
      "source": [
        "# Operator komparasi atau perbandingan\n",
        "a, b = 5, 10"
      ],
      "metadata": {
        "id": "bKpuq7W30cYZ"
      },
      "execution_count": 10,
      "outputs": []
    },
    {
      "cell_type": "code",
      "source": [
        "print(a, '>', b, '=', a > b)"
      ],
      "metadata": {
        "colab": {
          "base_uri": "https://localhost:8080/"
        },
        "id": "1I6ZSTrj1Ftv",
        "outputId": "41225e6a-7ef9-41ac-e7ac-dc0991c7c271"
      },
      "execution_count": 11,
      "outputs": [
        {
          "output_type": "stream",
          "name": "stdout",
          "text": [
            "5 > 10 = False\n"
          ]
        }
      ]
    },
    {
      "cell_type": "code",
      "source": [
        "print(a, '<', b, '=', a < b)"
      ],
      "metadata": {
        "colab": {
          "base_uri": "https://localhost:8080/"
        },
        "id": "9a-HOwb81STh",
        "outputId": "c4564f5d-984e-4de7-9e97-cea6cf3a0207"
      },
      "execution_count": 12,
      "outputs": [
        {
          "output_type": "stream",
          "name": "stdout",
          "text": [
            "5 < 10 = True\n"
          ]
        }
      ]
    },
    {
      "cell_type": "code",
      "source": [
        "print(a, '==', b, '=', a == b)"
      ],
      "metadata": {
        "colab": {
          "base_uri": "https://localhost:8080/"
        },
        "id": "6nYksO4c1evc",
        "outputId": "3fc6e665-7664-4988-bcc4-d24f685706b5"
      },
      "execution_count": 13,
      "outputs": [
        {
          "output_type": "stream",
          "name": "stdout",
          "text": [
            "5 == 10 = False\n"
          ]
        }
      ]
    },
    {
      "cell_type": "code",
      "source": [
        "print(a, '!=', b, '=', a != b)"
      ],
      "metadata": {
        "colab": {
          "base_uri": "https://localhost:8080/"
        },
        "id": "qTRnJxNR1q9z",
        "outputId": "54b7d448-9620-4c1a-db35-e8db24d7773a"
      },
      "execution_count": 14,
      "outputs": [
        {
          "output_type": "stream",
          "name": "stdout",
          "text": [
            "5 != 10 = True\n"
          ]
        }
      ]
    },
    {
      "cell_type": "code",
      "source": [
        "print(a, '>=', b, '=', a >= b)"
      ],
      "metadata": {
        "colab": {
          "base_uri": "https://localhost:8080/"
        },
        "id": "485oGMkn1-WU",
        "outputId": "eff86815-d3df-48d9-84ec-f5f8fc3af7fb"
      },
      "execution_count": 15,
      "outputs": [
        {
          "output_type": "stream",
          "name": "stdout",
          "text": [
            "5 >= 10 = False\n"
          ]
        }
      ]
    },
    {
      "cell_type": "code",
      "source": [
        "print(a, '<=', b, '=', a <= b)"
      ],
      "metadata": {
        "colab": {
          "base_uri": "https://localhost:8080/"
        },
        "id": "UVJd7myg2Pwi",
        "outputId": "62bb78cc-4991-4870-b2a0-d847f24f2fbc"
      },
      "execution_count": 16,
      "outputs": [
        {
          "output_type": "stream",
          "name": "stdout",
          "text": [
            "5 <= 10 = True\n"
          ]
        }
      ]
    },
    {
      "cell_type": "code",
      "source": [
        "# penugasan pertama"
      ],
      "metadata": {
        "id": "CpBmtidc2f2e"
      },
      "execution_count": 17,
      "outputs": []
    },
    {
      "cell_type": "code",
      "source": [
        "a  = 10\n",
        "print('a = 10 ->', a)"
      ],
      "metadata": {
        "colab": {
          "base_uri": "https://localhost:8080/"
        },
        "id": "sSE7JFUA2gFX",
        "outputId": "ab633952-3a5f-409b-a3c0-7b3eadc89e56"
      },
      "execution_count": 18,
      "outputs": [
        {
          "output_type": "stream",
          "name": "stdout",
          "text": [
            "a = 10 -> 10\n"
          ]
        }
      ]
    },
    {
      "cell_type": "code",
      "source": [
        "a += 5\n",
        "print('a += 5 ->', a)"
      ],
      "metadata": {
        "colab": {
          "base_uri": "https://localhost:8080/"
        },
        "id": "wVzZ3v8I2-W6",
        "outputId": "1876b23b-2f17-4cb4-c225-03b48a47532f"
      },
      "execution_count": 19,
      "outputs": [
        {
          "output_type": "stream",
          "name": "stdout",
          "text": [
            "a += 5 -> 15\n"
          ]
        }
      ]
    },
    {
      "cell_type": "code",
      "source": [
        "a -= 3\n",
        "print('a -= 3 ->', a)"
      ],
      "metadata": {
        "colab": {
          "base_uri": "https://localhost:8080/"
        },
        "id": "Nd56-YmN3Y0d",
        "outputId": "80ef2c71-5cb2-4bb8-e825-b736860dab67"
      },
      "execution_count": 20,
      "outputs": [
        {
          "output_type": "stream",
          "name": "stdout",
          "text": [
            "a -= 3 -> 12\n"
          ]
        }
      ]
    },
    {
      "cell_type": "code",
      "source": [
        "a *= 6\n",
        "print('a *= 6 ->', a)"
      ],
      "metadata": {
        "colab": {
          "base_uri": "https://localhost:8080/"
        },
        "id": "LGXMg6OO3mRP",
        "outputId": "e028818c-5a7e-491c-890e-e4bf01434ebc"
      },
      "execution_count": 21,
      "outputs": [
        {
          "output_type": "stream",
          "name": "stdout",
          "text": [
            "a *= 6 -> 72\n"
          ]
        }
      ]
    },
    {
      "cell_type": "code",
      "source": [
        "a /= 8\n",
        "print('a /= 8 ->', a)"
      ],
      "metadata": {
        "colab": {
          "base_uri": "https://localhost:8080/"
        },
        "id": "yMQuThUk30ty",
        "outputId": "85299080-8358-4fcd-9e85-290b358f4980"
      },
      "execution_count": 22,
      "outputs": [
        {
          "output_type": "stream",
          "name": "stdout",
          "text": [
            "a /= 8 -> 9.0\n"
          ]
        }
      ]
    },
    {
      "cell_type": "code",
      "source": [
        "# karena a jadi float, kita ubah lagi menjadi integer\n",
        "a = int(a)"
      ],
      "metadata": {
        "id": "cNt1kvLy4AOX"
      },
      "execution_count": 23,
      "outputs": []
    },
    {
      "cell_type": "code",
      "source": [
        "a %= 9\n",
        "print('a %= 9 ->', a)"
      ],
      "metadata": {
        "colab": {
          "base_uri": "https://localhost:8080/"
        },
        "id": "1cI3eNFJ4ZUw",
        "outputId": "a7204931-36cd-4e41-e616-8a58c52ced5d"
      },
      "execution_count": 24,
      "outputs": [
        {
          "output_type": "stream",
          "name": "stdout",
          "text": [
            "a %= 9 -> 0\n"
          ]
        }
      ]
    },
    {
      "cell_type": "code",
      "source": [
        "a //= 6\n",
        "print('a //= 6 ->', a)"
      ],
      "metadata": {
        "colab": {
          "base_uri": "https://localhost:8080/"
        },
        "id": "kwjapd7e4mGJ",
        "outputId": "057ca7a5-9d78-4f57-975e-36500840cdf8"
      },
      "execution_count": 25,
      "outputs": [
        {
          "output_type": "stream",
          "name": "stdout",
          "text": [
            "a //= 6 -> 0\n"
          ]
        }
      ]
    },
    {
      "cell_type": "code",
      "source": [
        "a **= 1\n",
        "print('a **= 1 ->', a)"
      ],
      "metadata": {
        "colab": {
          "base_uri": "https://localhost:8080/"
        },
        "id": "KBDTi-sC4xdS",
        "outputId": "7502c586-ea6d-420b-9450-8b42a47bca9f"
      },
      "execution_count": 26,
      "outputs": [
        {
          "output_type": "stream",
          "name": "stdout",
          "text": [
            "a **= 1 -> 0\n"
          ]
        }
      ]
    },
    {
      "cell_type": "code",
      "source": [
        "# operator logika"
      ],
      "metadata": {
        "id": "Hx86gpYD5PV9"
      },
      "execution_count": 27,
      "outputs": []
    },
    {
      "cell_type": "code",
      "source": [
        "print(True and True)"
      ],
      "metadata": {
        "colab": {
          "base_uri": "https://localhost:8080/"
        },
        "id": "mBnRr9xH5TiV",
        "outputId": "3ffef5fe-279e-4bd7-dc17-cc0b4968b4da"
      },
      "execution_count": 28,
      "outputs": [
        {
          "output_type": "stream",
          "name": "stdout",
          "text": [
            "True\n"
          ]
        }
      ]
    },
    {
      "cell_type": "code",
      "source": [
        "print(1 + 2 == 3 and True)"
      ],
      "metadata": {
        "colab": {
          "base_uri": "https://localhost:8080/"
        },
        "id": "Pt16gJYK5jX2",
        "outputId": "dbe96f50-4802-4cf4-8b60-d6c0b2b3c497"
      },
      "execution_count": 29,
      "outputs": [
        {
          "output_type": "stream",
          "name": "stdout",
          "text": [
            "True\n"
          ]
        }
      ]
    },
    {
      "cell_type": "code",
      "source": [
        "print('----')"
      ],
      "metadata": {
        "colab": {
          "base_uri": "https://localhost:8080/"
        },
        "id": "ylYE6bto5s96",
        "outputId": "270ee5e1-e560-45ce-b860-8b026984a7e4"
      },
      "execution_count": 30,
      "outputs": [
        {
          "output_type": "stream",
          "name": "stdout",
          "text": [
            "----\n"
          ]
        }
      ]
    },
    {
      "cell_type": "code",
      "source": [
        "print(False or 1 > 5)"
      ],
      "metadata": {
        "colab": {
          "base_uri": "https://localhost:8080/"
        },
        "id": "oFdPNGjK52GI",
        "outputId": "721efd44-6249-44a3-a974-3d1e910abe59"
      },
      "execution_count": 31,
      "outputs": [
        {
          "output_type": "stream",
          "name": "stdout",
          "text": [
            "False\n"
          ]
        }
      ]
    },
    {
      "cell_type": "code",
      "source": [
        "print(False or 5 > 2)"
      ],
      "metadata": {
        "colab": {
          "base_uri": "https://localhost:8080/"
        },
        "id": "oJpwIB5-5-qU",
        "outputId": "dd26f013-3d7d-465c-d116-f6cce283cbf0"
      },
      "execution_count": 32,
      "outputs": [
        {
          "output_type": "stream",
          "name": "stdout",
          "text": [
            "True\n"
          ]
        }
      ]
    },
    {
      "cell_type": "code",
      "source": [
        "print('----')"
      ],
      "metadata": {
        "colab": {
          "base_uri": "https://localhost:8080/"
        },
        "id": "LoOApj486IFU",
        "outputId": "94d1f6e8-7d51-4a52-d32c-5d4e2ac82b7d"
      },
      "execution_count": 33,
      "outputs": [
        {
          "output_type": "stream",
          "name": "stdout",
          "text": [
            "----\n"
          ]
        }
      ]
    },
    {
      "cell_type": "code",
      "source": [
        "print(not(1 > 5))"
      ],
      "metadata": {
        "colab": {
          "base_uri": "https://localhost:8080/"
        },
        "id": "pr3RtwTv6PFK",
        "outputId": "65babe60-6e04-4200-cf9e-749a0f61d686"
      },
      "execution_count": 34,
      "outputs": [
        {
          "output_type": "stream",
          "name": "stdout",
          "text": [
            "True\n"
          ]
        }
      ]
    },
    {
      "cell_type": "code",
      "source": [
        "print(not(1 < 5))"
      ],
      "metadata": {
        "colab": {
          "base_uri": "https://localhost:8080/"
        },
        "id": "KuiX2kfi6Zlo",
        "outputId": "124a6496-6053-417a-b28b-182e073ef94f"
      },
      "execution_count": 35,
      "outputs": [
        {
          "output_type": "stream",
          "name": "stdout",
          "text": [
            "False\n"
          ]
        }
      ]
    },
    {
      "cell_type": "code",
      "source": [
        "# operator keanggotaan"
      ],
      "metadata": {
        "id": "FG4XkrxT61Zg"
      },
      "execution_count": 36,
      "outputs": []
    },
    {
      "cell_type": "code",
      "source": [
        "perusahaan = 'Microsoft'\n",
        "list_pulau = ['Jawa', 'Sumatra', 'Sulawesi']"
      ],
      "metadata": {
        "id": "uLInCH2H674t"
      },
      "execution_count": 39,
      "outputs": []
    },
    {
      "cell_type": "code",
      "source": [
        "# ini adalah dictionary, insyaallah akan kita pelajari\n",
        "# di pertemuan-pertemuan yang akan datang\n",
        "mahasiswa = {\n",
        "    'nama' : 'Lendis Fabri',\n",
        "    'asal' : 'Lamogan'\n",
        "}"
      ],
      "metadata": {
        "id": "nTy6sAO-7zgZ"
      },
      "execution_count": 43,
      "outputs": []
    },
    {
      "cell_type": "code",
      "source": [
        "print(\n",
        "    \"Apakah 'c' ada di variabel perusahaan?\",\n",
        "    'c' in perusahaan\n",
        ")"
      ],
      "metadata": {
        "colab": {
          "base_uri": "https://localhost:8080/"
        },
        "id": "HpdaTUMm8tVS",
        "outputId": "9b22f4b7-f95c-42c2-c356-a692bc99fa82"
      },
      "execution_count": 44,
      "outputs": [
        {
          "output_type": "stream",
          "name": "stdout",
          "text": [
            "Apakah 'c' ada di variabel perusahaan? True\n"
          ]
        }
      ]
    },
    {
      "cell_type": "code",
      "source": [],
      "metadata": {
        "id": "dgo6gOrx_D9g"
      },
      "execution_count": null,
      "outputs": []
    },
    {
      "cell_type": "code",
      "source": [
        "print(\n",
        "    \"Apakah 'z'   tidak ada variabel perusahaan\",\n",
        "    'c' not in perusahaan\n",
        ")"
      ],
      "metadata": {
        "colab": {
          "base_uri": "https://localhost:8080/"
        },
        "id": "if-K0GkX9g5c",
        "outputId": "103812f7-31ff-4e01-acb2-f6133e749b3c"
      },
      "execution_count": 47,
      "outputs": [
        {
          "output_type": "stream",
          "name": "stdout",
          "text": [
            "Apakah 'z'   tidak ada variabel perusahaan False\n"
          ]
        }
      ]
    },
    {
      "cell_type": "code",
      "source": [
        "print(\n",
        "    \"Apakah 'Madura' tidak ada di variabel list_pulau?\",\n",
        "    'nama' not in perusahaan\n",
        ")"
      ],
      "metadata": {
        "colab": {
          "base_uri": "https://localhost:8080/"
        },
        "id": "Pmk7F-Yz-Cdf",
        "outputId": "4b683f26-6e26-40c2-b956-209e28ba7d42"
      },
      "execution_count": 49,
      "outputs": [
        {
          "output_type": "stream",
          "name": "stdout",
          "text": [
            "Apakah 'Madura' tidak ada di variabel list_pulau? True\n"
          ]
        }
      ]
    },
    {
      "cell_type": "code",
      "source": [
        "print(\n",
        "    \"Apakah atribut 'nama' ada di variabel mahasiswa?\",\n",
        "    'nama' in mahasiswa\n",
        ")"
      ],
      "metadata": {
        "colab": {
          "base_uri": "https://localhost:8080/"
        },
        "id": "0IaOpBr3-FIg",
        "outputId": "d787be6a-31b8-467e-9d56-bd634e80ac3f"
      },
      "execution_count": 50,
      "outputs": [
        {
          "output_type": "stream",
          "name": "stdout",
          "text": [
            "Apakah atribut 'nama' ada di variabel mahasiswa? True\n"
          ]
        }
      ]
    },
    {
      "cell_type": "code",
      "source": [
        "# operator identitas"
      ],
      "metadata": {
        "id": "W_bdDd9G_FJU"
      },
      "execution_count": 51,
      "outputs": []
    },
    {
      "cell_type": "code",
      "source": [
        "a = 5\n",
        "b = 5\n",
        "nama_a = 'budi'\n",
        "nama_b = 'budi'"
      ],
      "metadata": {
        "id": "eD5Ap8cS_Sl0"
      },
      "execution_count": 53,
      "outputs": []
    },
    {
      "cell_type": "code",
      "source": [
        "# output True\n",
        "print('a is b:', a is b)\n",
        "# output False\n",
        "print('a is not b:', a is not b)"
      ],
      "metadata": {
        "colab": {
          "base_uri": "https://localhost:8080/"
        },
        "id": "LQ2-_sWN_xpl",
        "outputId": "9213167d-a6bc-4425-d78d-0cb85acdbdaf"
      },
      "execution_count": 54,
      "outputs": [
        {
          "output_type": "stream",
          "name": "stdout",
          "text": [
            "a is b: True\n",
            "a is not b: False\n"
          ]
        }
      ]
    },
    {
      "cell_type": "code",
      "source": [
        "# output True\n",
        "print('nama_a is nama_b:', nama_a is nama_b)\n",
        "# output False\n",
        "print('nama_a is not namma_b:', nama_a is not nama_b)"
      ],
      "metadata": {
        "colab": {
          "base_uri": "https://localhost:8080/"
        },
        "id": "gy5RrrILAOoI",
        "outputId": "2a5e966f-d25a-44dc-92d0-6cef540ca394"
      },
      "execution_count": 55,
      "outputs": [
        {
          "output_type": "stream",
          "name": "stdout",
          "text": [
            "nama_a is nama_b: True\n",
            "nama_a is not namma_b: False\n"
          ]
        }
      ]
    }
  ]
}