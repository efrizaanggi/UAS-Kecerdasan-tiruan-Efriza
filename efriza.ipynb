{
  "nbformat": 4,
  "nbformat_minor": 0,
  "metadata": {
    "colab": {
      "provenance": [],
      "authorship_tag": "ABX9TyNFivWzUSmlnQTuy3FYtWP2",
      "include_colab_link": true
    },
    "kernelspec": {
      "name": "python3",
      "display_name": "Python 3"
    },
    "language_info": {
      "name": "python"
    }
  },
  "cells": [
    {
      "cell_type": "markdown",
      "metadata": {
        "id": "view-in-github",
        "colab_type": "text"
      },
      "source": [
        "<a href=\"https://colab.research.google.com/github/efrizaanngi/Anggi/blob/main/efriza.ipynb\" target=\"_parent\"><img src=\"https://colab.research.google.com/assets/colab-badge.svg\" alt=\"Open In Colab\"/></a>"
      ]
    },
    {
      "cell_type": "code",
      "execution_count": 1,
      "metadata": {
        "colab": {
          "base_uri": "https://localhost:8080/"
        },
        "id": "56bqqsW4othb",
        "outputId": "df830a10-2fab-4860-8686-5acd0c28c8af"
      },
      "outputs": [
        {
          "output_type": "stream",
          "name": "stdout",
          "text": [
            "kode program ini akan dieksekusi\n"
          ]
        }
      ],
      "source": [
        "if True:\n",
        "  print('kode program ini akan dieksekusi')"
      ]
    },
    {
      "cell_type": "code",
      "source": [
        "if False:\n",
        "   print('kode program ini tidak akan dieksekusi')"
      ],
      "metadata": {
        "id": "SboU_O6co7GC"
      },
      "execution_count": 2,
      "outputs": []
    },
    {
      "cell_type": "code",
      "source": [
        "print('kode program ini akan selalu dieksekusi')"
      ],
      "metadata": {
        "colab": {
          "base_uri": "https://localhost:8080/"
        },
        "id": "uSkoRDVIpJky",
        "outputId": "5f5361c2-ded4-4c24-9f84-5856165c18bd"
      },
      "execution_count": 3,
      "outputs": [
        {
          "output_type": "stream",
          "name": "stdout",
          "text": [
            "kode program ini akan selalu dieksekusi\n"
          ]
        }
      ]
    },
    {
      "cell_type": "code",
      "source": [
        "nilai = 88\n",
        "print('Nilai anda adalah:', nilai, '\\A')"
      ],
      "metadata": {
        "colab": {
          "base_uri": "https://localhost:8080/"
        },
        "id": "zLWGiHzYpSPK",
        "outputId": "64b6b2aa-f5ba-4cf6-90c7-69917109f432"
      },
      "execution_count": 4,
      "outputs": [
        {
          "output_type": "stream",
          "name": "stdout",
          "text": [
            "Nilai anda adalah: 88 \\A\n"
          ]
        }
      ]
    },
    {
      "cell_type": "code",
      "source": [
        "if nilai >= 90:\n",
        "  print('selamat, anda lulus!')\n",
        "else:\n",
        "  print('maaf,anda tidak lulus.')"
      ],
      "metadata": {
        "colab": {
          "base_uri": "https://localhost:8080/"
        },
        "id": "oJGeZkewpY8F",
        "outputId": "017b994f-3afb-4269-c784-b1255edfe6d9"
      },
      "execution_count": 5,
      "outputs": [
        {
          "output_type": "stream",
          "name": "stdout",
          "text": [
            "maaf,anda tidak lulus.\n"
          ]
        }
      ]
    },
    {
      "cell_type": "code",
      "source": [
        "nilai = int(input('masukkan nilai: '))\n",
        "if nilai >= 95:\n",
        "  print('predikat A')\n",
        "elif nilai >= 88:\n",
        "  print('predikat B')\n",
        "elif nilai >= 76:\n",
        "  print('predikat C')\n",
        "elif nilai >= 59:\n",
        "  print('predikat D')\n",
        "else:\n",
        "  print('predikat E')"
      ],
      "metadata": {
        "colab": {
          "base_uri": "https://localhost:8080/"
        },
        "id": "1MJD5B0jprz3",
        "outputId": "27f7bbaf-a6ae-46c9-d1f2-e9a968b897ce"
      },
      "execution_count": 6,
      "outputs": [
        {
          "output_type": "stream",
          "name": "stdout",
          "text": [
            "masukkan nilai: 95\n",
            "predikat A\n"
          ]
        }
      ]
    },
    {
      "cell_type": "code",
      "source": [
        "buah_yang_tersedia = ['alpukat','mangga','melon']\n",
        "buah_yang_dicari = input('masukkan nama buah dalam huruf kecil: ')\n",
        "\n",
        "if (buah_yang_dicari in buah_yang_tersedia):\n",
        "  print('buah yang anda cari tersedia!')\n",
        "else:\n",
        "  print('buah yang anda cari tidak tersedia! ')"
      ],
      "metadata": {
        "colab": {
          "base_uri": "https://localhost:8080/"
        },
        "id": "O10tPwX2p-2Q",
        "outputId": "71020778-866e-4ead-868e-67a331e5ce0a"
      },
      "execution_count": 7,
      "outputs": [
        {
          "output_type": "stream",
          "name": "stdout",
          "text": [
            "masukkan nama buah dalam huruf kecil: anggur\n",
            "buah yang anda cari tidak tersedia! \n"
          ]
        }
      ]
    },
    {
      "cell_type": "code",
      "source": [
        "nilai = int(input('masukkan nilai: '))\n",
        "usia = int(input('masukkan usia: '))\n",
        "\n",
        "if nilai >= 93:\n",
        "  if (usia < 15):\n",
        "    print('selamat adek, kamu lulus! ')\n",
        "  else:\n",
        "    print('selamat kakak, kamu lulus! ')\n",
        "else:\n",
        "  if (usia < 15):\n",
        "    print('mohon maaf dek, coba lagi ya! ')\n",
        "  else:\n",
        "    print('mohon maaf kak, coba lagi ya! ')"
      ],
      "metadata": {
        "colab": {
          "base_uri": "https://localhost:8080/"
        },
        "id": "zbc8VEqhq2HR",
        "outputId": "a1d3105c-6517-49b2-bf20-54c98d82c85e"
      },
      "execution_count": 9,
      "outputs": [
        {
          "output_type": "stream",
          "name": "stdout",
          "text": [
            "masukkan nilai: 90\n",
            "masukkan usia: 15\n",
            "mohon maaf kak, coba lagi ya! \n"
          ]
        }
      ]
    }
  ]
}