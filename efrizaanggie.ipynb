{
  "nbformat": 4,
  "nbformat_minor": 0,
  "metadata": {
    "colab": {
      "provenance": [],
      "authorship_tag": "ABX9TyPrNN+QMgDW23ne2EWIjFK0",
      "include_colab_link": true
    },
    "kernelspec": {
      "name": "python3",
      "display_name": "Python 3"
    },
    "language_info": {
      "name": "python"
    }
  },
  "cells": [
    {
      "cell_type": "markdown",
      "metadata": {
        "id": "view-in-github",
        "colab_type": "text"
      },
      "source": [
        "<a href=\"https://colab.research.google.com/github/efrizaanngi/Anggi/blob/main/efrizaanggie.ipynb\" target=\"_parent\"><img src=\"https://colab.research.google.com/assets/colab-badge.svg\" alt=\"Open In Colab\"/></a>"
      ]
    },
    {
      "cell_type": "code",
      "execution_count": null,
      "metadata": {
        "colab": {
          "base_uri": "https://localhost:8080/"
        },
        "id": "DJ0ToOJCQxtF",
        "outputId": "ef208961-67b5-4ead-c4a6-1f9608f634c3"
      },
      "outputs": [
        {
          "output_type": "stream",
          "name": "stdout",
          "text": [
            "Jakarta\n",
            "Surabaya\n",
            "Depok\n",
            "Bekasi\n",
            "Solo\n",
            "Jogjakarta\n",
            "Semarang\n",
            "Makasar\n"
          ]
        }
      ],
      "source": [
        "listkota = ['Jakarta', 'Surabaya', 'Depok', 'Bekasi', 'Solo', 'Jogjakarta', 'Semarang', 'Makasar']\n",
        "for kota in listkota:\n",
        "  print(kota)"
      ]
    },
    {
      "cell_type": "code",
      "source": [
        "listkota = ['Jakarta', 'Surabaya', 'Depok', 'Bekasi', 'Solo', 'Jogjakarta', 'Semarang', 'Makasar']\n",
        "for i, kota in enumerate(listkota):\n",
        "  print(i, kota)"
      ],
      "metadata": {
        "colab": {
          "base_uri": "https://localhost:8080/"
        },
        "id": "HTHtemloR0gN",
        "outputId": "97651218-4e51-4cc2-e4f3-6f512a2da705"
      },
      "execution_count": null,
      "outputs": [
        {
          "output_type": "stream",
          "name": "stdout",
          "text": [
            "0 Jakarta\n",
            "1 Surabaya\n",
            "2 Depok\n",
            "3 Bekasi\n",
            "4 Solo\n",
            "5 Jogjakarta\n",
            "6 Semarang\n",
            "7 Makasar\n"
          ]
        }
      ]
    },
    {
      "cell_type": "code",
      "source": [
        "## 0 sampai 4\n",
        "for i in range(5):\n",
        "  print(\"perulangan ke -\", i)"
      ],
      "metadata": {
        "colab": {
          "base_uri": "https://localhost:8080/"
        },
        "id": "ry7hKpMESkYH",
        "outputId": "28634244-f0ab-4d43-bfd3-028cbb93c5c3"
      },
      "execution_count": null,
      "outputs": [
        {
          "output_type": "stream",
          "name": "stdout",
          "text": [
            "perulangan ke - 0\n",
            "perulangan ke - 1\n",
            "perulangan ke - 2\n",
            "perulangan ke - 3\n",
            "perulangan ke - 4\n"
          ]
        }
      ]
    },
    {
      "cell_type": "code",
      "source": [
        "## 10 sampai 15\n",
        "for i in range(10, 16):\n",
        "  print('i =', i)"
      ],
      "metadata": {
        "colab": {
          "base_uri": "https://localhost:8080/"
        },
        "id": "9scjyFeZS_Rx",
        "outputId": "d7d11f93-4246-40fa-e73a-b617f0dfd651"
      },
      "execution_count": null,
      "outputs": [
        {
          "output_type": "stream",
          "name": "stdout",
          "text": [
            "i = 10\n",
            "i = 11\n",
            "i = 12\n",
            "i = 13\n",
            "i = 14\n",
            "i = 15\n"
          ]
        }
      ]
    },
    {
      "cell_type": "code",
      "source": [
        "## Bilangan genap kelipatan 2\n",
        "for i in range(2, 12, 2):\n",
        "  print('i =', i)"
      ],
      "metadata": {
        "colab": {
          "base_uri": "https://localhost:8080/"
        },
        "id": "hHaajo6pTdnn",
        "outputId": "f6a0c7a6-62ab-406b-d3fb-8a3639599d82"
      },
      "execution_count": null,
      "outputs": [
        {
          "output_type": "stream",
          "name": "stdout",
          "text": [
            "i = 2\n",
            "i = 4\n",
            "i = 6\n",
            "i = 8\n",
            "i = 10\n"
          ]
        }
      ]
    },
    {
      "cell_type": "code",
      "source": [
        "## Bilangan ganjil kelipatan 2\n",
        "for bilangan_ganjil in range(1, 12, 2):\n",
        "  print(bilangan_ganjil)"
      ],
      "metadata": {
        "colab": {
          "base_uri": "https://localhost:8080/"
        },
        "id": "MlhrA8YyT-7b",
        "outputId": "4ab54492-8229-4175-f419-218ba58d4950"
      },
      "execution_count": null,
      "outputs": [
        {
          "output_type": "stream",
          "name": "stdout",
          "text": [
            "1\n",
            "3\n",
            "5\n",
            "7\n",
            "9\n",
            "11\n"
          ]
        }
      ]
    },
    {
      "cell_type": "code",
      "source": [
        "tupleBuah = ('Mangga', 'Jeruk', 'Apel', 'Pepaya')\n",
        "for buah in tupleBuah:\n",
        "  print(buah)"
      ],
      "metadata": {
        "colab": {
          "base_uri": "https://localhost:8080/"
        },
        "id": "QJcawfH0UcYx",
        "outputId": "72f02850-8b0f-4f3a-fe65-4fb434588a06"
      },
      "execution_count": null,
      "outputs": [
        {
          "output_type": "stream",
          "name": "stdout",
          "text": [
            "Mangga\n",
            "Jeruk\n",
            "Apel\n",
            "Pepaya\n"
          ]
        }
      ]
    },
    {
      "cell_type": "code",
      "source": [
        "for karakter in \"IndonesiaID\":\n",
        "  print(karakter)"
      ],
      "metadata": {
        "colab": {
          "base_uri": "https://localhost:8080/"
        },
        "id": "wz12XWZBVDyt",
        "outputId": "ba69e172-9575-4885-97d2-540213f5b396"
      },
      "execution_count": null,
      "outputs": [
        {
          "output_type": "stream",
          "name": "stdout",
          "text": [
            "I\n",
            "n\n",
            "d\n",
            "o\n",
            "n\n",
            "e\n",
            "s\n",
            "i\n",
            "a\n",
            "I\n",
            "D\n"
          ]
        }
      ]
    },
    {
      "cell_type": "code",
      "source": [
        "for i in range(10, 20):\n",
        "  # skip jika i == 15\n",
        "  if (i == 15):\n",
        "    continue\n",
        "\n",
        "  print(i)"
      ],
      "metadata": {
        "colab": {
          "base_uri": "https://localhost:8080/"
        },
        "id": "IkP-x-CjVeze",
        "outputId": "cdb8d06a-ff6b-408a-f5c6-d8afeaf41aef"
      },
      "execution_count": null,
      "outputs": [
        {
          "output_type": "stream",
          "name": "stdout",
          "text": [
            "10\n",
            "11\n",
            "12\n",
            "13\n",
            "14\n",
            "16\n",
            "17\n",
            "18\n",
            "19\n"
          ]
        }
      ]
    },
    {
      "cell_type": "code",
      "source": [
        "for i in range(10, 20):\n",
        "  # hentikan jika i == 15\n",
        "  if (i == 15):\n",
        "    break\n",
        "\n",
        "  print(i)"
      ],
      "metadata": {
        "colab": {
          "base_uri": "https://localhost:8080/"
        },
        "id": "Q03qH6AmWT1i",
        "outputId": "3b0f0c26-7c68-4651-99c6-81d77eefaaa2"
      },
      "execution_count": null,
      "outputs": [
        {
          "output_type": "stream",
          "name": "stdout",
          "text": [
            "10\n",
            "11\n",
            "12\n",
            "13\n",
            "14\n"
          ]
        }
      ]
    },
    {
      "cell_type": "code",
      "source": [
        "listkota = ['Jakarta', 'Surabaya', 'Depok', 'Bekasi', 'Solo', 'Jogjakarta', 'Semarang', 'Makasar']\n",
        "for kota in listkota:\n",
        "  print(kota)\n",
        "else:\n",
        "    print('Tidak ada lagi item yang tersisa')"
      ],
      "metadata": {
        "colab": {
          "base_uri": "https://localhost:8080/"
        },
        "id": "43deqPS2XxDa",
        "outputId": "464eb7f8-c4d9-404a-d74f-a566a60aefac"
      },
      "execution_count": null,
      "outputs": [
        {
          "output_type": "stream",
          "name": "stdout",
          "text": [
            "Jakarta\n",
            "Surabaya\n",
            "Depok\n",
            "Bekasi\n",
            "Solo\n",
            "Jogjakarta\n",
            "Semarang\n",
            "Makasar\n",
            "Tidak ada lagi item yang tersisa\n"
          ]
        }
      ]
    },
    {
      "cell_type": "code",
      "source": [
        "listkota = ['Jakarta', 'Surabaya', 'Depok', 'Bekasi', 'Solo', 'Jogjakarta', 'Semarang', 'Makasar']\n",
        "kotaYangDicari = input('Ketik nama kota yang kamu cari: ')\n",
        "for i, kota in enumerate(listkota):\n",
        "  # kita ubah katanya ke Lowecase agar\n",
        "  # menjadi case insensitive\n",
        "  if kota.lower() == kotaYangDicari.lower():\n",
        "    print('kota yang anda cari berada pada indeks', i)\n",
        "    break\n",
        "  else:\n",
        "    print('Maaf, kota yang anda cari tidak ada')"
      ],
      "metadata": {
        "colab": {
          "base_uri": "https://localhost:8080/"
        },
        "id": "m20Jy7yAZCH1",
        "outputId": "0492b34c-d46f-4b4e-c30f-daec0622f312"
      },
      "execution_count": null,
      "outputs": [
        {
          "output_type": "stream",
          "name": "stdout",
          "text": [
            "Ketik nama kota yang kamu cari: Solo\n",
            "Maaf, kota yang anda cari tidak ada\n",
            "Maaf, kota yang anda cari tidak ada\n",
            "Maaf, kota yang anda cari tidak ada\n",
            "Maaf, kota yang anda cari tidak ada\n",
            "kota yang anda cari berada pada indeks 4\n"
          ]
        }
      ]
    },
    {
      "cell_type": "code",
      "source": [],
      "metadata": {
        "id": "SpISzx8WcTQW"
      },
      "execution_count": null,
      "outputs": []
    }
  ]
}