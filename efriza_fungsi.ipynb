{
  "cells": [
    {
      "cell_type": "markdown",
      "metadata": {
        "id": "view-in-github",
        "colab_type": "text"
      },
      "source": [
        "<a href=\"https://colab.research.google.com/github/efrizaanngi/Anggi/blob/main/efriza_fungsi.ipynb\" target=\"_parent\"><img src=\"https://colab.research.google.com/assets/colab-badge.svg\" alt=\"Open In Colab\"/></a>"
      ]
    },
    {
      "cell_type": "code",
      "execution_count": null,
      "metadata": {
        "colab": {
          "base_uri": "https://localhost:8080/"
        },
        "id": "sP0vY4Y9ZNPP",
        "outputId": "f9c40b46-bccb-48bc-ab01-495dd5b50163"
      },
      "outputs": [
        {
          "name": "stdout",
          "output_type": "stream",
          "text": [
            "Hello, selamat pagi\n"
          ]
        }
      ],
      "source": [
        "# Membuat Fungsi\n",
        "def salam():\n",
        "    print (\"Hello, selamat pagi\")\n",
        "\n",
        "## Pemanggilan Fungsi\n",
        "salam()"
      ]
    },
    {
      "cell_type": "code",
      "execution_count": null,
      "metadata": {
        "colab": {
          "base_uri": "https://localhost:8080/"
        },
        "id": "eLoC9gklZyK0",
        "outputId": "b0ada4b7-af84-4f53-bca9-854fd3584615"
      },
      "outputs": [
        {
          "name": "stdout",
          "output_type": "stream",
          "text": [
            "Hello, selamat pagi\n",
            "Hello, selamat pagi\n",
            "Hello, selamat pagi\n"
          ]
        }
      ],
      "source": [
        "# Membuat Fungsi\n",
        "def salam():\n",
        "    print (\"Hello, selamat pagi\")\n",
        "\n",
        "## Pemanggilan Fungsi\n",
        "salam()\n",
        "salam()\n",
        "salam()"
      ]
    },
    {
      "cell_type": "code",
      "execution_count": null,
      "metadata": {
        "colab": {
          "base_uri": "https://localhost:8080/"
        },
        "id": "f3GESMFjZ6PR",
        "outputId": "ae25b0b5-551d-476f-906d-082910671073"
      },
      "outputs": [
        {
          "name": "stdout",
          "output_type": "stream",
          "text": [
            "selamat siang\n"
          ]
        }
      ],
      "source": [
        "def salam(ucapan):\n",
        "  print(ucapan)\n",
        "salam(\"selamat siang\")"
      ]
    },
    {
      "cell_type": "code",
      "execution_count": null,
      "metadata": {
        "id": "lHpRUqC7aJnW"
      },
      "outputs": [],
      "source": [
        "# Membuat fungsi dengan parameter\n",
        "def luas_segitiga(alas,tinggi):\n",
        "    luas = (alas * tinggi) / 2\n",
        "    print (\"Luas segitiga: %f\" % luas)"
      ]
    },
    {
      "cell_type": "code",
      "execution_count": null,
      "metadata": {
        "colab": {
          "base_uri": "https://localhost:8080/"
        },
        "id": "x4OX43taaPxd",
        "outputId": "8564b08f-3a3a-4ffd-a3e7-c3fdf92f0937"
      },
      "outputs": [
        {
          "name": "stdout",
          "output_type": "stream",
          "text": [
            "Luas segitiga: 15.000000\n"
          ]
        }
      ],
      "source": [
        "# Pemanggilan fungsi\n",
        "luas_segitiga(5, 6)"
      ]
    },
    {
      "cell_type": "code",
      "execution_count": null,
      "metadata": {
        "id": "hmKv3pXdaVLo"
      },
      "outputs": [],
      "source": [
        "def luas_persegi(sisi):\n",
        "    luas = sisi * sisi\n",
        "    return luas"
      ]
    },
    {
      "cell_type": "code",
      "execution_count": null,
      "metadata": {
        "colab": {
          "base_uri": "https://localhost:8080/"
        },
        "id": "-zzviJjnaVhV",
        "outputId": "b5f6fd2b-df87-48be-f098-f8415134aead"
      },
      "outputs": [
        {
          "name": "stdout",
          "output_type": "stream",
          "text": [
            "Luas persegi: 64\n"
          ]
        }
      ],
      "source": [
        "# pemanggil fungsi\n",
        "print (\"Luas persegi: %d\" % luas_persegi(8))"
      ]
    },
    {
      "cell_type": "code",
      "execution_count": null,
      "metadata": {
        "colab": {
          "base_uri": "https://localhost:8080/"
        },
        "id": "GGwBsYKZaqGs",
        "outputId": "7edbdebe-d551-4e10-d4e8-8a777d581352"
      },
      "outputs": [
        {
          "name": "stdout",
          "output_type": "stream",
          "text": [
            "Luas segitiga: 12.000000\n"
          ]
        }
      ],
      "source": [
        "# Membuat fungsi dengan parameter\n",
        "def luas_segitiga(alas, tinggi):\n",
        "    luas = (alas * tinggi) / 2\n",
        "    print (\"Luas segitiga: %f\" % luas)\n",
        "\n",
        "# Pemanggilan fungsi\n",
        "luas_segitiga(4, 6)"
      ]
    },
    {
      "cell_type": "code",
      "execution_count": null,
      "metadata": {
        "colab": {
          "base_uri": "https://localhost:8080/"
        },
        "id": "J3dK3qxMavmy",
        "outputId": "88aabdcd-fea0-42c0-bfec-37fe6d3720a3"
      },
      "outputs": [
        {
          "name": "stdout",
          "output_type": "stream",
          "text": [
            "Luas persegi: 36\n"
          ]
        }
      ],
      "source": [
        "def luas_persegi(sisi):\n",
        "    luas = sisi * sisi\n",
        "    return luas\n",
        "\n",
        "# Pemanggilan fungsi\n",
        "print (\"Luas persegi: %d\" % luas_persegi(6))"
      ]
    },
    {
      "cell_type": "code",
      "execution_count": null,
      "metadata": {
        "id": "xh-hAFosbDZJ"
      },
      "outputs": [],
      "source": [
        "# membuat variabel global\n",
        "nama = \"Belajar Kode\"\n",
        "versi = \"1.0.0\"\n",
        "\n",
        "def help():\n",
        "    # ini variabel lokal\n",
        "    nama = \"Programku\"\n",
        "    versi = \"1.0.1\"\n",
        "    # mengakses variabel lokal\n",
        "    print (\"Nama: %s\" % nama)\n",
        "    print (\"Versi: %s\" % versi)"
      ]
    },
    {
      "cell_type": "code",
      "execution_count": null,
      "metadata": {
        "colab": {
          "base_uri": "https://localhost:8080/"
        },
        "id": "nt5tcFxRbMJt",
        "outputId": "9ec2c03a-581a-4d99-8129-5e24d2c0fd07"
      },
      "outputs": [
        {
          "name": "stdout",
          "output_type": "stream",
          "text": [
            "Nama: Belajar Kode\n",
            "Versi: 1.0.0\n",
            "Nama: Programku\n",
            "Versi: 1.0.1\n"
          ]
        }
      ],
      "source": [
        "# mengakses variabel global\n",
        "print (\"Nama: %s\" % nama)\n",
        "print (\"Versi: %s\" % versi)\n",
        "\n",
        "# memanggil fungsi help()\n",
        "help()"
      ]
    },
    {
      "cell_type": "code",
      "execution_count": null,
      "metadata": {
        "id": "m0rYeMLwbUk4"
      },
      "outputs": [],
      "source": [
        "# membuat variabel global\n",
        "nama = \"Nama, Tanggal lahir\"\n",
        "versi = \"Efriza, 23 September\"\n",
        "\n",
        "def help():\n",
        "    # ini variabel lokal\n",
        "    nama = \"Hobi, jurusan, tempat tinggal\"\n",
        "    versi = \"Memasak, Ilmu Komputer, Jada bahrin\"\n",
        "    # mengakses variabel lokal\n",
        "    print (\"Nama: %s\" % nama)\n",
        "    print (\"Versi: %s\" % versi)"
      ]
    },
    {
      "cell_type": "code",
      "execution_count": null,
      "metadata": {
        "colab": {
          "base_uri": "https://localhost:8080/"
        },
        "id": "dFddKduHbtNy",
        "outputId": "e2a79e0a-7b68-4b14-ec3f-c4963903477a"
      },
      "outputs": [
        {
          "name": "stdout",
          "output_type": "stream",
          "text": [
            "Nama: Nama, Tanggal lahir\n",
            "Versi: Efriza, 23 September\n",
            "Nama: Hobi, jurusan, tempat tinggal\n",
            "Versi: Memasak, Ilmu Komputer, Jada bahrin\n"
          ]
        }
      ],
      "source": [
        "# mengakses variabel global\n",
        "print (\"Nama: %s\" % nama)\n",
        "print (\"Versi: %s\" % versi)\n",
        "\n",
        "# memanggil fungsi help()\n",
        "help()"
      ]
    },
    {
      "cell_type": "code",
      "execution_count": null,
      "metadata": {
        "colab": {
          "background_save": true,
          "base_uri": "https://localhost:8080/"
        },
        "id": "nF7w_GgzcVfg",
        "outputId": "c8907124-65b2-48a2-90d1-98e6e3bd2b5b"
      },
      "outputs": [
        {
          "name": "stdout",
          "output_type": "stream",
          "text": [
            "\n",
            "\n",
            "---------- MENU ----------\n",
            "[1] Show Data\n",
            "[2] Insert Data\n",
            "[3] Edit Data\n",
            "[4] Delete Data12345678\n",
            "[5] Exit\n",
            "\n",
            "\n",
            "BELUM ADA DATA\n",
            "\n",
            "\n",
            "---------- MENU ----------\n",
            "[1] Show Data\n",
            "[2] Insert Data\n",
            "[3] Edit Data\n",
            "[4] Delete Data12345678\n",
            "[5] Exit\n",
            "\n",
            "\n",
            "\n",
            "\n",
            "---------- MENU ----------\n",
            "[1] Show Data\n",
            "[2] Insert Data\n",
            "[3] Edit Data\n",
            "[4] Delete Data12345678\n",
            "[5] Exit\n",
            "\n",
            "\n",
            "\n",
            "\n",
            "---------- MENU ----------\n",
            "[1] Show Data\n",
            "[2] Insert Data\n",
            "[3] Edit Data\n",
            "[4] Delete Data12345678\n",
            "[5] Exit\n",
            "\n",
            "\n",
            "[0] Nothing is impossible\n",
            "\n",
            "\n",
            "---------- MENU ----------\n",
            "[1] Show Data\n",
            "[2] Insert Data\n",
            "[3] Edit Data\n",
            "[4] Delete Data12345678\n",
            "[5] Exit\n"
          ]
        }
      ],
      "source": [
        "buku = []\n",
        "# fungsi untuk menampilkan semua data\n",
        "def show_data():\n",
        "    if len(buku) <= 0:\n",
        "        print(\"BELUM ADA DATA\")\n",
        "    else:\n",
        "        for indeks in range(len(buku)):\n",
        "            print(\"[{}] {}\".format(indeks, buku[indeks]))\n",
        "\n",
        "# fungsi untuk menambah data\n",
        "def insert_data():\n",
        "    buku_baru = input(\"Judul Buku:\")\n",
        "    buku.append(buku_baru)\n",
        "\n",
        "# fungsi untuk edit data\n",
        "def edit_data():\n",
        "    show_data()\n",
        "    indeks = int(input(\"Inputan ID buku\"))\n",
        "    if indeks > len(buku):\n",
        "      print(\"ID salah\")\n",
        "    else:\n",
        "      judul_baru = input(\"Judul Buku:\")\n",
        "      buku[indeks] = judul_baru\n",
        "\n",
        "def delete_data():\n",
        "    show_data()\n",
        "    indeks = int(input(\"Inputan ID buku\"))\n",
        "    if indeks > len(buku):\n",
        "      print(\"ID salah\")\n",
        "    else:\n",
        "      buku.remove(buku[indeks])\n",
        "\n",
        "# fungsi untuk menampilkan menu\n",
        "def show_menu():\n",
        "    print(\"\\n\")\n",
        "    print(\"---------- MENU ----------\")\n",
        "    print(\"[1] Show Data\")\n",
        "    print(\"[2] Insert Data\")\n",
        "    print(\"[3] Edit Data\")\n",
        "    print(\"[4] Delete Data12345678\")\n",
        "    print(\"[5] Exit\")\n",
        "    menu = input(\"PILIH MENU>\")\n",
        "    print(\"\\n\")\n",
        "\n",
        "    if int(menu) == 1:\n",
        "      show_data()\n",
        "    elif int(menu) == 2:\n",
        "      insert_data()\n",
        "    elif int(menu) == 3:\n",
        "      edit_data()\n",
        "    elif int(menu) == 4:\n",
        "      delete_data()\n",
        "    elif int(menu) == 5:\n",
        "     exit()\n",
        "    else:\n",
        "      print(\"Salah pilih!\")\n",
        "\n",
        "if __name__ == \"__main__\":\n",
        "\n",
        "    while True:\n",
        "        show_menu()"
      ]
    }
  ],
  "metadata": {
    "colab": {
      "provenance": [],
      "authorship_tag": "ABX9TyOhtNMFqByw4rfJBompG4tL",
      "include_colab_link": true
    },
    "kernelspec": {
      "display_name": "Python 3",
      "name": "python3"
    },
    "language_info": {
      "name": "python"
    }
  },
  "nbformat": 4,
  "nbformat_minor": 0
}